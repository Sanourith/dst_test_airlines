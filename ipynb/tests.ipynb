{
 "cells": [
  {
   "cell_type": "code",
   "execution_count": 5,
   "id": "8fe34d61",
   "metadata": {},
   "outputs": [
    {
     "name": "stdout",
     "output_type": "stream",
     "text": [
      "      iata_code                     name  latitude_deg  longitude_deg\n",
      "60946       UTK           Utirik Airport     11.222000     169.852005\n",
      "60947       OCA  Ocean Reef Club Airport     25.325399     -80.274803\n",
      "60948       PQS    Pilot Station Airport     61.934601    -162.899994\n",
      "60949       CSE    Crested Butte Airpark     38.851918    -106.928341\n",
      "60950       JCY        LBJ Ranch Airport     30.251801     -98.622498\n"
     ]
    }
   ],
   "source": [
    "import pandas as pd\n",
    "\n",
    "csv_file=\"/home/sanou/work/DST_airline/data/4_external/airport_names.csv\"\n",
    "df_airports = pd.read_csv(csv_file, index_col=False)\n",
    "# print(df_airports.head(5))\n",
    "\n",
    "df_nan = df_airports.dropna()\n",
    "print(df_nan.head(5))"
   ]
  },
  {
   "cell_type": "code",
   "execution_count": 11,
   "id": "3b235486",
   "metadata": {},
   "outputs": [
    {
     "name": "stdout",
     "output_type": "stream",
     "text": [
      "Noms des colonnes :\n",
      "Index(['iata_code', 'name', 'latitude_deg', 'longitude_deg'], dtype='object')\n",
      "AEAAAAAAEAE\n",
      "iata_code        106\n",
      "name             106\n",
      "latitude_deg     106\n",
      "longitude_deg    106\n",
      "dtype: int64\n",
      "AEAAAAAAEAE\n",
      "Entrées en double :\n",
      "      iata_code                                               name  \\\n",
      "61581       TAO                            Qingdao Liuting Airport   \n",
      "61616       YGA                           Lac Gagnon Seaplane Base   \n",
      "62052       PHM                                 Böblingen Flugfeld   \n",
      "62053       PHM                                 Böblingen Flugfeld   \n",
      "62118       DLC  Dalian Jinzhouwan International Airport (under...   \n",
      "...         ...                                                ...   \n",
      "69509       YGA                    Yongchuan Da'an General Airport   \n",
      "70002       ENY                           Yan'an Ershilipu Airport   \n",
      "70039       XMN                 Xiamen Gaoqi International Airport   \n",
      "70110       YBP                                Yibin Caiba Airport   \n",
      "70151       DLC            Dalian Zhoushuizi International Airport   \n",
      "\n",
      "       latitude_deg  longitude_deg  \n",
      "61581     36.266102     120.374001  \n",
      "61616     46.117500     -75.115303  \n",
      "62052     48.689544       8.996193  \n",
      "62053     48.689544       8.996193  \n",
      "62118     39.122550     121.598070  \n",
      "...             ...            ...  \n",
      "69509     29.356667     106.010441  \n",
      "70002     36.636902     109.554001  \n",
      "70039     24.544001     118.127998  \n",
      "70110     28.800556     104.545000  \n",
      "70151     38.965698     121.539001  \n",
      "\n",
      "[106 rows x 4 columns]\n",
      "Les entrées en double ont été supprimées et le fichier modifié a été enregistré sous chemin/vers/votre/fichier_modifie.csv\n"
     ]
    }
   ],
   "source": [
    "import pandas as pd\n",
    "\n",
    "# Charger le fichier CSV\n",
    "csv_file=\"/home/sanou/work/DST_airline/data/4_external/airport_names.csv\"\n",
    "df = pd.read_csv(csv_file)\n",
    "df = df.dropna()\n",
    "# Afficher les noms des colonnes\n",
    "print(\"Noms des colonnes :\")\n",
    "print(df.columns)\n",
    "\n",
    "\n",
    "# Identifier les entrées en double basées sur la colonne correcte\n",
    "# Remplacez 'airport_code' par le nom correct de la colonne\n",
    "correct_column_name = 'iata_code'  # Remplacez par le nom correct\n",
    "duplicates = df[df.duplicated(subset=[correct_column_name], keep=False)]\n",
    "count = duplicates.count()\n",
    "print(\"AEAAAAAAEAE\")\n",
    "print(count)\n",
    "print(\"AEAAAAAAEAE\")\n",
    "\n",
    "# Afficher les entrées en double\n",
    "print(\"Entrées en double :\")\n",
    "print(duplicates)\n",
    "\n",
    "# Supprimer les entrées en double\n",
    "df_clean = df.drop_duplicates(subset=[correct_column_name], keep='first')\n",
    "\n",
    "# Enregistrer le DataFrame modifié dans un nouveau fichier CSV\n",
    "\n",
    "\n",
    "print(f\"Les entrées en double ont été supprimées et le fichier modifié a été enregistré sous {output_file_path}\")\n"
   ]
  }
 ],
 "metadata": {
  "kernelspec": {
   "display_name": "venv",
   "language": "python",
   "name": "python3"
  },
  "language_info": {
   "codemirror_mode": {
    "name": "ipython",
    "version": 3
   },
   "file_extension": ".py",
   "mimetype": "text/x-python",
   "name": "python",
   "nbconvert_exporter": "python",
   "pygments_lexer": "ipython3",
   "version": "3.12.3"
  }
 },
 "nbformat": 4,
 "nbformat_minor": 5
}
