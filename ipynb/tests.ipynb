{
 "cells": [
  {
   "cell_type": "code",
   "execution_count": null,
   "id": "8fe34d61",
   "metadata": {},
   "outputs": [
    {
     "name": "stdout",
     "output_type": "stream",
     "text": [
      "      iata_code                     name  latitude_deg  longitude_deg\n",
      "60946       UTK           Utirik Airport     11.222000     169.852005\n",
      "60947       OCA  Ocean Reef Club Airport     25.325399     -80.274803\n",
      "60948       PQS    Pilot Station Airport     61.934601    -162.899994\n",
      "60949       CSE    Crested Butte Airpark     38.851918    -106.928341\n",
      "60950       JCY        LBJ Ranch Airport     30.251801     -98.622498\n"
     ]
    }
   ],
   "source": [
    "import pandas as pd\n",
    "\n",
    "csv_file=\"/home/sanou/work/DST_airline/data/4_external/airport_names.csv\"\n",
    "df_airports = pd.read_csv(csv_file)\n",
    "# print(df_airports.head(5))\n",
    "\n",
    "df_nan = df_airports.dropna()\n",
    "# print(df_nan.head(5))"
   ]
  }
 ],
 "metadata": {
  "kernelspec": {
   "display_name": "venv",
   "language": "python",
   "name": "python3"
  },
  "language_info": {
   "codemirror_mode": {
    "name": "ipython",
    "version": 3
   },
   "file_extension": ".py",
   "mimetype": "text/x-python",
   "name": "python",
   "nbconvert_exporter": "python",
   "pygments_lexer": "ipython3",
   "version": "3.12.3"
  }
 },
 "nbformat": 4,
 "nbformat_minor": 5
}
